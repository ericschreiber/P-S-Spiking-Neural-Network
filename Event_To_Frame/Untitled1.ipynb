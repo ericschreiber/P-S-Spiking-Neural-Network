{
 "cells": [
  {
   "cell_type": "code",
   "execution_count": 1,
   "id": "b175449d-af60-4dd7-9a0a-ce312b9c019f",
   "metadata": {},
   "outputs": [],
   "source": [
    "import matplotlib.pyplot\n",
    "import matplotlib.pyplot as plt"
   ]
  },
  {
   "cell_type": "code",
   "execution_count": 3,
   "id": "db3a2ddc-da90-4617-a307-6c7c125309f0",
   "metadata": {},
   "outputs": [
    {
     "data": {
      "text/plain": [
       "<matplotlib.image.AxesImage at 0x1ea63e2f820>"
      ]
     },
     "execution_count": 3,
     "metadata": {},
     "output_type": "execute_result"
    },
    {
     "data": {
      "image/png": "[encoded data removed]",
      "text/plain": [
       "<Figure size 432x288 with 1 Axes>"
      ]
     },
     "metadata": {
      "needs_background": "light"
     },
     "output_type": "display_data"
    }
   ],
   "source": [
    " plt.imshow(matplotlib.pyplot.imread(r'C:\\Users\\erics\\Documents\\Programme\\PundS_Spiking_Neural_Networks\\Event_To_Frame\\frames\\frame0.png', format=None))"
   ]
  },
  {
   "cell_type": "code",
   "execution_count": 4,
   "id": "952ca6b0-304d-44fa-8851-1bdfe7df72cd",
   "metadata": {},
   "outputs": [
    {
     "data": {
      "text/plain": [
       "<matplotlib.image.AxesImage at 0x1ea63e8dd60>"
      ]
     },
     "execution_count": 4,
     "metadata": {},
     "output_type": "execute_result"
    },
    {
     "data": {
      "image/png": "[encoded data removed]",
      "text/plain": [
       "<Figure size 432x288 with 1 Axes>"
      ]
     },
     "metadata": {
      "needs_background": "light"
     },
     "output_type": "display_data"
    }
   ],
   "source": [
    "plt.imshow(matplotlib.pyplot.imread(r'C:\\Users\\erics\\Documents\\Programme\\PundS_Spiking_Neural_Networks\\Event_To_Frame\\Converted2\\Test\\0\\frame00004.png', format=None))"
   ]
  },
  {
   "cell_type": "code",
   "execution_count": null,
   "id": "bc439b36-5002-4b3f-9639-73af23a7c077",
   "metadata": {},
   "outputs": [],
   "source": []
  }
 ],
 "metadata": {
  "kernelspec": {
   "display_name": "Python 3 (ipykernel)",
   "language": "python",
   "name": "python3"
  },
  "language_info": {
   "codemirror_mode": {
    "name": "ipython",
    "version": 3
   },
   "file_extension": ".py",
   "mimetype": "text/x-python",
   "name": "python",
   "nbconvert_exporter": "python",
   "pygments_lexer": "ipython3",
   "version": "3.9.5"
  }
 },
 "nbformat": 4,
 "nbformat_minor": 5
}
