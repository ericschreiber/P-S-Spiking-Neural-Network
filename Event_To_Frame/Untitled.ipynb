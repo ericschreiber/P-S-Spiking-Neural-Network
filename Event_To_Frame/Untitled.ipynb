{
 "cells": [
  {
   "cell_type": "code",
   "execution_count": 154,
   "id": "35159648-e7f7-46dd-97b3-355678059509",
   "metadata": {},
   "outputs": [],
   "source": [
    "from read_nmnist import *\n",
    "from brian2 import us, ms, second\n",
    "from dvs_utils import Plotter2d, DVSmonitor\n",
    "import cv2\n",
    "import os\n",
    "import matplotlib.pyplot as plt\n",
    "import matplotlib\n",
    "\n",
    "\n",
    "# Load Data\n",
    "#a = read_dataset('C:/Users/erics/Documents/Programme/PundS_Spiking_Neural_Networks/Data/Test/Test/2/00036.bin')\n",
    "\n",
    "a = read_dataset(r'C:\\Users\\erics\\Documents\\Programme\\PundS_Spiking_Neural_Networks\\Data\\Test\\Test\\2\\00036.bin')\n",
    "\n",
    "# Get events from data\n",
    "ev_x = a.data.x\n",
    "ev_y = a.data.y\n",
    "ev_t = a.data.ts - a.data.ts[0]\n",
    "ev_p = a.data.p.astype(int)\n",
    "\n",
    "# Frame Size of input data\n",
    "frame_height = a.height\n",
    "frame_width = a.width\n",
    "\n",
    "# Save events as images - similar to the DVS exercise #\n",
    "\n",
    "dvs_monitor = DVSmonitor(ev_x, ev_y, ev_t, ev_p, unit=us)\n",
    "\n",
    "# Choose plotting parameters.\n",
    "# You have to select these in such a way such that you can recognise\n",
    "# the digits once you save them as frames\n",
    "\n",
    "plot_dt = 13000000\n",
    "filtersize = 2\n",
    "xy_dimensions_dvs = [frame_height, frame_width]\n",
    "start_end_times = [0, 10]\n",
    "\n",
    "dvs_plotter = Plotter2d(dvs_monitor, dims=(xy_dimensions_dvs[0], xy_dimensions_dvs[1]),\n",
    "                        plotrange=(start_end_times[0] * second, start_end_times[1] * second))\n",
    "\n",
    "# Save event stream as numpy arrays\n",
    "# video_dvs is numpy array version of events.\n",
    "video_dvs = dvs_plotter.plot3d(plot_dt=plot_dt * us, filtersize=plot_dt * us * filtersize)\n",
    "\n",
    "_, x_dim, y_dim = video_dvs.shape\n",
    "\n",
    "# Save numpy arrays as frames in order to see if you can clearly recognise the digits from the data\n",
    "# save_path = '/Converted/Test/0'\n",
    "# if not os.path.exists(save_path):\n",
    "#     os.mkdir(save_path)\n",
    "\n"
   ]
  },
  {
   "cell_type": "code",
   "execution_count": 155,
   "id": "25eb1f83-2bea-4514-b120-a3de2a3f9fc5",
   "metadata": {},
   "outputs": [
    {
     "data": {
      "text/plain": [
       "<matplotlib.image.AxesImage at 0x2556ae4f3d0>"
      ]
     },
     "execution_count": 155,
     "metadata": {},
     "output_type": "execute_result"
    },
    {
     "data": {
      "image/png": "[encoded data removed]",
      "text/plain": [
       "<Figure size 432x288 with 1 Axes>"
      ]
     },
     "metadata": {
      "needs_background": "light"
     },
     "output_type": "display_data"
    }
   ],
   "source": [
    "plt.imshow(video_dvs[0])"
   ]
  },
  {
   "cell_type": "code",
   "execution_count": 156,
   "id": "63cca89e",
   "metadata": {},
   "outputs": [],
   "source": [
    "filename = 'C:/Users/erics/Documents/Programme/PundS_Spiking_Neural_Networks/Event_To_Frame/Converted/Test/0' + '/frame' + str(1) + '.png'\n",
    "matplotlib.image.imsave(filename, video_dvs[0])\n",
    "#cv2.imwrite(filename, video_dvs[0])"
   ]
  },
  {
   "cell_type": "code",
   "execution_count": 70,
   "id": "d62e3768-87b7-4c5c-8eeb-51596309ebd1",
   "metadata": {},
   "outputs": [
    {
     "name": "stdout",
     "output_type": "stream",
     "text": [
      "Saving Frames...\n"
     ]
    }
   ],
   "source": [
    "print('Saving Frames...')\n",
    "for iFrame in range(len(video_dvs)):\n",
    "    filename = save_path + '/frame' + str(iFrame) + '.png'\n",
    "    cv2.imwrite(filename, video_dvs[iFrame])"
   ]
  },
  {
   "cell_type": "code",
   "execution_count": 10,
   "id": "c1f0cdfd-38e1-46f4-9903-aca2a2aabd90",
   "metadata": {},
   "outputs": [],
   "source": [
    "import matplotlib.pyplot\n",
    "import matplotlib.pyplot as plt"
   ]
  },
  {
   "cell_type": "code",
   "execution_count": 11,
   "id": "70389e92-6c00-463f-8f68-fef566b2c6d1",
   "metadata": {},
   "outputs": [
    {
     "data": {
      "text/plain": [
       "<matplotlib.image.AxesImage at 0x28851e84df0>"
      ]
     },
     "execution_count": 11,
     "metadata": {},
     "output_type": "execute_result"
    },
    {
     "data": {
      "image/png": "[encoded data removed]",
      "text/plain": [
       "<Figure size 432x288 with 1 Axes>"
      ]
     },
     "metadata": {
      "needs_background": "light"
     },
     "output_type": "display_data"
    }
   ],
   "source": [
    " plt.imshow(matplotlib.pyplot.imread(r'C:\\Users\\erics\\Documents\\Programme\\PundS_Spiking_Neural_Networks\\Event_To_Frame\\Converted2\\Test\\0\\frame00004.png', format=None))"
   ]
  },
  {
   "cell_type": "code",
   "execution_count": null,
   "id": "670d88b9-7f0d-4d82-80c2-f7214b75967c",
   "metadata": {},
   "outputs": [],
   "source": []
  }
 ],
 "metadata": {
  "kernelspec": {
   "display_name": "Python 3 (ipykernel)",
   "language": "python",
   "name": "python3"
  },
  "language_info": {
   "codemirror_mode": {
    "name": "ipython",
    "version": 3
   },
   "file_extension": ".py",
   "mimetype": "text/x-python",
   "name": "python",
   "nbconvert_exporter": "python",
   "pygments_lexer": "ipython3",
   "version": "3.9.5"
  }
 },
 "nbformat": 4,
 "nbformat_minor": 5
}
